{
 "cells": [
  {
   "cell_type": "markdown",
   "metadata": {},
   "source": [
    "# Get Room detail"
   ]
  },
  {
   "cell_type": "code",
   "execution_count": 1,
   "metadata": {},
   "outputs": [
    {
     "name": "stdout",
     "output_type": "stream",
     "text": [
      "Data retrieved successfully:\n",
      "{'passwordProtected': False, 'enableOneToOneChat': False, 'moderatorOnlyOneToOneChat': False, 'enableChannels': False, 'showNotificationForAllChannels': False, 'enableLikeMessage': True, 'defaultNotificationEnabled': False, '_id': '6570e7fdb9fdb4934dcd5db7', 'roomId': 'Qs1uFHWMQ', 'name': 'DEMO ROOM', 'fileSharingMode': '', 'preModeratedChatRoom': False, 'roomPassword': None}\n"
     ]
    }
   ],
   "source": [
    "import requests\n",
    "\n",
    "# Replace 'your_room_id' with the actual room ID and 'your_auth_token' with the actual auth token.\n",
    "room_id = 'Qs1uFHWMQ'\n",
    "auth_token = '336c50666a3142486970723857467347724c4f776b6b6e42685752445851757963796951544a4d3573694c51746b6847'\n",
    "\n",
    "# The base URL for the API\n",
    "base_url = \"https://api.deadsimplechat.com/consumer/api/v1/chatroom/\"\n",
    "\n",
    "# Construct the full URL with the room ID\n",
    "url = f\"{base_url}{room_id}\"\n",
    "\n",
    "# Set the auth token as a query parameter\n",
    "params = {\n",
    "    'auth': auth_token\n",
    "}\n",
    "\n",
    "# Making a GET request to the API with the required roomId and auth token\n",
    "response = requests.get(url, params=params)\n",
    "\n",
    "# Handle response\n",
    "if response.status_code == 200:\n",
    "    # Success\n",
    "    data = response.json()\n",
    "    print(\"Data retrieved successfully:\")\n",
    "    print(data)\n",
    "elif response.status_code == 401:\n",
    "    # Unauthorized\n",
    "    print(\"Unauthorized access. Check your auth token.\")\n",
    "else:\n",
    "    # Other errors\n",
    "    print(f\"Failed to retrieve data. Status code: {response.status_code}, Response: {response.text}\")\n"
   ]
  },
  {
   "cell_type": "markdown",
   "metadata": {},
   "source": [
    "# Post a message to the room"
   ]
  },
  {
   "cell_type": "code",
   "execution_count": 23,
   "metadata": {},
   "outputs": [
    {
     "name": "stdout",
     "output_type": "stream",
     "text": [
      "Message sent successfully.\n"
     ]
    }
   ],
   "source": [
    "# URL with the room ID included in the path\n",
    "send_message_url = f\"https://api.deadsimplechat.com/consumer/api/v1/chatroom/{room_id}/message\"\n",
    "\n",
    "# The corrected data to be sent in the request body (assuming sending as a user with username)\n",
    "data = {\n",
    "    \"user\": {\n",
    "        \"username\": \"Professor\"  # Replace with the actual username\n",
    "    },\n",
    "    \"message\": \"I can define username and message within the Python Program to send messages in chat\"  # The message content\n",
    "}\n",
    "\n",
    "# Query parameters with the auth token\n",
    "params = {\n",
    "    'auth': auth_token\n",
    "}\n",
    "\n",
    "# Sending the POST request\n",
    "response = requests.post(send_message_url, json=data, params=params)\n",
    "\n",
    "# Handling the response\n",
    "if response.status_code == 200:\n",
    "    print(\"Message sent successfully.\")\n",
    "else:\n",
    "    print(f\"Failed to send message. Status code: {response.status_code}, Response: {response.text}\")\n"
   ]
  },
  {
   "cell_type": "markdown",
   "metadata": {},
   "source": [
    "# Get Export Messages\n",
    "\n",
    "this is just for getting all the chat message history"
   ]
  },
  {
   "cell_type": "code",
   "execution_count": 164,
   "metadata": {},
   "outputs": [
    {
     "name": "stdout",
     "output_type": "stream",
     "text": [
      "Failed to retrieve messages. Status code: 429, Response: Too Many Requests\n"
     ]
    }
   ],
   "source": [
    "# URL with the room ID included in the path for exporting messages\n",
    "export_message_url = f\"https://api.deadsimplechat.com/consumer/api/v1/chatroom/{room_id}/export/messages\"\n",
    "\n",
    "# Query parameters with the auth token\n",
    "params = {\n",
    "    'auth': auth_token \n",
    "}\n",
    "\n",
    "# Sending the GET request\n",
    "response = requests.get(export_message_url, params=params)\n",
    "\n",
    "# Handling the response\n",
    "if response.status_code == 200:\n",
    "    print(\"Messages exported successfully.\")\n",
    "    \n",
    "    # The content type header of the response can tell us what the response contains\n",
    "    content_type = response.headers.get('Content-Type')\n",
    "    \n",
    "    # Check if the response is in JSON format\n",
    "    if 'application/json' in content_type:\n",
    "        exported_messages = response.json()\n",
    "        print(exported_messages)\n",
    "    else:\n",
    "        # If it's not JSON, it could be a file or other content type. Handle accordingly.\n",
    "        print(\"The response is not in JSON format. Here's the raw content:\")\n",
    "        print(response.text)\n",
    "else:\n",
    "    print(f\"Failed to retrieve messages. Status code: {response.status_code}, Response: {response.text}\")"
   ]
  },
  {
   "cell_type": "code",
   "execution_count": 173,
   "metadata": {},
   "outputs": [
    {
     "name": "stdout",
     "output_type": "stream",
     "text": [
      "[{'message': {'_id': '657559e05fe831dcefeccf59', 'chatRoom': '6570e7fdb9fdb4934dcd5db7', 'created': '2023-12-10T06:25:36.896Z', 'customer': '6570e65cb9fdb4934dcd5c00', 'likes': [], 'message': 'hello', 'user': {'__v': 0, '_id': '657538a7e6a47e3247d82a01', 'created': '2023-12-10T04:03:51.162Z', 'ipAddress': '72.211.23.198', 'isModerator': False, 'lastChatRoomId': 'Qs1uFHWMQ', 'lastSeen': '2023-12-10T05:02:52.028Z', 'parentCustomerAccount': '6570e65cb9fdb4934dcd5c00', 'uniqueUserIdentifier': 'guest_1698a6ee-da75-4d05-9043-20c56e6dc349', 'updated': '2023-12-10T05:02:52.030Z', 'username': 'Caleb', 'webSocketId': 'k3Fh7AZkqhKJXjF-AAq7'}}}, {'_id': '657559e05fe831dcefeccf59', 'chatRoom': '6570e7fdb9fdb4934dcd5db7', 'created': '2023-12-10T06:25:36.896Z', 'customer': '6570e65cb9fdb4934dcd5c00', 'likes': [], 'message': 'hello', 'user': {'__v': 0, '_id': '657538a7e6a47e3247d82a01', 'created': '2023-12-10T04:03:51.162Z', 'ipAddress': '72.211.23.198', 'isModerator': False, 'lastChatRoomId': 'Qs1uFHWMQ', 'lastSeen': '2023-12-10T05:02:52.028Z', 'parentCustomerAccount': '6570e65cb9fdb4934dcd5c00', 'uniqueUserIdentifier': 'guest_1698a6ee-da75-4d05-9043-20c56e6dc349', 'updated': '2023-12-10T05:02:52.030Z', 'username': 'Caleb', 'webSocketId': 'k3Fh7AZkqhKJXjF-AAq7'}}]\n"
     ]
    }
   ],
   "source": [
    "import requests\n",
    "\n",
    "response = requests.get('http://127.0.0.1:5000/api/messages')\n",
    "if response.status_code == 200:\n",
    "    messages = response.json()\n",
    "    print(messages)"
   ]
  },
  {
   "cell_type": "code",
   "execution_count": 174,
   "metadata": {},
   "outputs": [
    {
     "data": {
      "text/plain": [
       "{'_id': '657559e05fe831dcefeccf59',\n",
       " 'chatRoom': '6570e7fdb9fdb4934dcd5db7',\n",
       " 'created': '2023-12-10T06:25:36.896Z',\n",
       " 'customer': '6570e65cb9fdb4934dcd5c00',\n",
       " 'likes': [],\n",
       " 'message': 'hello',\n",
       " 'user': {'__v': 0,\n",
       "  '_id': '657538a7e6a47e3247d82a01',\n",
       "  'created': '2023-12-10T04:03:51.162Z',\n",
       "  'ipAddress': '72.211.23.198',\n",
       "  'isModerator': False,\n",
       "  'lastChatRoomId': 'Qs1uFHWMQ',\n",
       "  'lastSeen': '2023-12-10T05:02:52.028Z',\n",
       "  'parentCustomerAccount': '6570e65cb9fdb4934dcd5c00',\n",
       "  'uniqueUserIdentifier': 'guest_1698a6ee-da75-4d05-9043-20c56e6dc349',\n",
       "  'updated': '2023-12-10T05:02:52.030Z',\n",
       "  'username': 'Caleb',\n",
       "  'webSocketId': 'k3Fh7AZkqhKJXjF-AAq7'}}"
      ]
     },
     "execution_count": 174,
     "metadata": {},
     "output_type": "execute_result"
    }
   ],
   "source": [
    "messages[-1]"
   ]
  },
  {
   "cell_type": "code",
   "execution_count": 175,
   "metadata": {},
   "outputs": [
    {
     "data": {
      "text/plain": [
       "'hello'"
      ]
     },
     "execution_count": 175,
     "metadata": {},
     "output_type": "execute_result"
    }
   ],
   "source": [
    "messages[-1]['message']"
   ]
  },
  {
   "cell_type": "code",
   "execution_count": null,
   "metadata": {},
   "outputs": [],
   "source": []
  },
  {
   "cell_type": "code",
   "execution_count": null,
   "metadata": {},
   "outputs": [],
   "source": []
  }
 ],
 "metadata": {
  "kernelspec": {
   "display_name": "AI-Professor-EweMPoc2",
   "language": "python",
   "name": "python3"
  },
  "language_info": {
   "codemirror_mode": {
    "name": "ipython",
    "version": 3
   },
   "file_extension": ".py",
   "mimetype": "text/x-python",
   "name": "python",
   "nbconvert_exporter": "python",
   "pygments_lexer": "ipython3",
   "version": "3.11.6"
  }
 },
 "nbformat": 4,
 "nbformat_minor": 2
}
